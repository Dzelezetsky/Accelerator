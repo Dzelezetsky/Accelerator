{
 "cells": [
  {
   "cell_type": "code",
   "execution_count": 2,
   "metadata": {},
   "outputs": [],
   "source": [
    "import docopt"
   ]
  },
  {
   "cell_type": "code",
   "execution_count": 3,
   "metadata": {},
   "outputs": [],
   "source": [
    "import torch"
   ]
  },
  {
   "cell_type": "code",
   "execution_count": 4,
   "metadata": {},
   "outputs": [],
   "source": [
    "import gymnasium as gym"
   ]
  },
  {
   "cell_type": "code",
   "execution_count": 5,
   "metadata": {},
   "outputs": [],
   "source": [
    "import pybullet_envs_gymnasium "
   ]
  },
  {
   "cell_type": "code",
   "execution_count": 6,
   "metadata": {},
   "outputs": [],
   "source": [
    "from gymnasium import spaces\n",
    "import numpy as np\n",
    "\n",
    "\n",
    "######################################################################################\n",
    "class POMDPWrapper(gym.Wrapper):\n",
    "    def __init__(self, env, partially_obs_dims: list):\n",
    "        super().__init__(env)\n",
    "        self.partially_obs_dims = partially_obs_dims\n",
    "        # can equal to the fully-observed env\n",
    "        assert 0 < len(self.partially_obs_dims) <= self.observation_space.shape[0]\n",
    "\n",
    "        self.observation_space = spaces.Box(\n",
    "            low=self.observation_space.low[self.partially_obs_dims],\n",
    "            high=self.observation_space.high[self.partially_obs_dims],\n",
    "            dtype=np.float32,\n",
    "        )\n",
    "\n",
    "        if self.env.action_space.__class__.__name__ == \"Box\":\n",
    "            self.act_continuous = True\n",
    "            # if continuous actions, make sure in [-1, 1]\n",
    "            # NOTE: policy won't use action_space.low/high, just set [-1,1]\n",
    "            # this is a bad practice...\n",
    "        else:\n",
    "            self.act_continuous = False\n",
    "        self.true_state = None\n",
    "    # def seed(self, seed):\n",
    "    #     self.env.seed(seed)\n",
    "\n",
    "    def get_obs(self, state):\n",
    "        return state[self.partially_obs_dims].copy()\n",
    "\n",
    "    def get_unobservable(self):\n",
    "        unobserved_dims = [i for i in range(self.true_state.shape[0]) if i not in self.partially_obs_dims]\n",
    "        return self.true_state[unobserved_dims].copy()\n",
    "\n",
    "    def reset(self, seed, **kwargs):\n",
    "        state, _ = self.env.reset(seed=seed)  # no kwargs\n",
    "        self.true_state = state\n",
    "        return self.get_obs(state), {}\n",
    "\n",
    "    def step(self, action):\n",
    "        if self.act_continuous:\n",
    "            # recover the action\n",
    "            action = np.clip(action, -1, 1)  # first clip into [-1, 1]\n",
    "            lb = self.env.action_space.low\n",
    "            ub = self.env.action_space.high\n",
    "            action = lb + (action + 1.0) * 0.5 * (ub - lb)\n",
    "            action = np.clip(action, lb, ub)\n",
    "\n",
    "        state, reward, trunc, term, info = self.env.step(action)\n",
    "        self.true_state = state\n",
    "        return self.get_obs(state), reward, trunc, term, info\n",
    "    \n",
    "\n",
    "def make_env(env_id, seed):\n",
    "    def thunk():\n",
    "        # if capture_video and idx == 0:\n",
    "        #     env = gym.make(env_id, render_mode=\"rgb_array\")\n",
    "        #     env = gym.wrappers.RecordVideo(env, f\"videos/{run_name}\")\n",
    "        # else:\n",
    "        #     env = gym.make(env_id)\n",
    "\n",
    "        if env_id == \"HalfCheetahBLT-V-v0\":\n",
    "            env = POMDPWrapper(gym.make(\"HalfCheetahBulletEnv-v0\"), partially_obs_dims=[3, 4, 5, 9, 11, 13, 15, 17, 19])\n",
    "        elif env_id == \"HalfCheetahBLT-P-v0\":\n",
    "            env = POMDPWrapper(gym.make(\"HalfCheetahBulletEnv-v0\"), partially_obs_dims=[0, 1, 2, 6, 7, 8, 10, 12, 14, 16, 18, 20, 21, 22, 23, 24, 25])\n",
    "        elif env_id == \"AntBLT-V-v0\":\n",
    "            env = POMDPWrapper(gym.make(\"AntBulletEnv-v0\"), partially_obs_dims=[3, 4, 5, 9, 11, 13, 15, 17, 19, 21, 23])\n",
    "        elif env_id == \"AntBLT-P-v0\":\n",
    "            env = POMDPWrapper(gym.make(\"AntBulletEnv-v0\"), partially_obs_dims=[0, 1, 2, 6, 7, 8, 10, 12, 14, 16, 18, 20, 22, 24, 25, 26, 27])\n",
    "        elif env_id == \"WalkerBLT-V-v0\":\n",
    "            env = POMDPWrapper(gym.make(\"Walker2DBulletEnv-v0\"), partially_obs_dims=[3, 4, 5, 9, 11, 13, 15, 17, 19])\n",
    "        elif env_id == \"WalkerBLT-P-v0\":\n",
    "            env = POMDPWrapper(gym.make(\"Walker2DBulletEnv-v0\"), partially_obs_dims=[0, 1, 2, 6, 7, 8, 10, 12, 14, 16, 18, 20, 21])\n",
    "        elif env_id == \"HopperBLT-V-v0\":\n",
    "            env = POMDPWrapper(gym.make(\"HopperBulletEnv-v0\"), partially_obs_dims=[3, 4, 5, 9, 11, 13])\n",
    "        elif env_id == \"HopperBLT-P-v0\":\n",
    "            env = POMDPWrapper(gym.make(\"HopperBulletEnv-v0\"), partially_obs_dims=[0, 1, 2, 6, 7, 8, 10, 12, 14])\n",
    "        else:\n",
    "            assert 0\n",
    "\n",
    "        env = gym.wrappers.RecordEpisodeStatistics(env)\n",
    "        env.action_space.seed(seed)\n",
    "\n",
    "        return env\n",
    "\n",
    "\n",
    "    return thunk    \n",
    "############################################################################    \n",
    "\n",
    "\n",
    "class GPUObservationWrapper(gym.ObservationWrapper):\n",
    "    def __init__(self, env: gym.Env, device: torch.device):\n",
    "        super().__init__(env)\n",
    "        self.device = device  # Устройство (GPU или CPU)\n",
    "\n",
    "    def reset(self, **kwargs):\n",
    "        # Получаем начальное наблюдение\n",
    "        obs = self.env.reset(**kwargs)\n",
    "        obs_tensor = self._to_tensor(obs[0]).unsqueeze(0)\n",
    "        #return {'state': obs_tensor}\n",
    "        return obs_tensor\n",
    "        \n",
    "    def step(self, action):\n",
    "        # Выполняем шаг в среде\n",
    "        obs, reward, done, info, _ = self.env.step(action)\n",
    "        \n",
    "        # Конвертируем наблюдения, вознаграждения и флаги завершения в тензоры\n",
    "        obs_tensor = self._to_tensor(obs).unsqueeze(0)\n",
    "        reward_tensor = self._to_tensor(np.array(reward, dtype=np.float32))\n",
    "        done_tensor = self._to_tensor(np.array(done, dtype=np.bool_))\n",
    "        \n",
    "        #return {'state': obs_tensor}, reward_tensor, done_tensor, info\n",
    "        return obs_tensor, reward_tensor, done_tensor, info\n",
    "\n",
    "    def _to_tensor(self, obs: np.ndarray):\n",
    "        if isinstance(obs, np.ndarray):\n",
    "            if np.issubdtype(obs.dtype, np.bool_):\n",
    "                tensor = torch.from_numpy(obs).to(torch.bool)\n",
    "            elif np.issubdtype(obs.dtype, np.floating):\n",
    "                tensor = torch.from_numpy(obs).float()\n",
    "            elif np.issubdtype(obs.dtype, np.integer):\n",
    "                tensor = torch.from_numpy(obs).long()\n",
    "            else:\n",
    "                # Для остальных типов данных используем float по умолчанию\n",
    "                tensor = torch.tensor(obs, dtype=torch.float32)\n",
    "            return tensor.to(self.device)\n",
    "        return obs\n",
    "\n",
    "    def seed(self, seed: int = None):\n",
    "        # Вызываем seed метода оригинальной среды один раз\n",
    "        return self.env.seed(seed)\n",
    "\n",
    "\n",
    "def env_constructor(env_name: str, seed: int = 1, obs_indices: list = None):\n",
    "    device = torch.device(\"cuda\" if torch.cuda.is_available() else \"cpu\")\n",
    "    env = gym.vector.SyncVectorEnv([make_env(env_name, seed)])# Один раз устанавливаем seed здесь\n",
    "    \n",
    "    # if obs_indices is not None:\n",
    "    #     env = PartialObservation(env, obs_indices)\n",
    "    \n",
    "    env = GPUObservationWrapper(env, device)\n",
    " \n",
    "    return env, env.observation_space.shape[-1], env.action_space.shape[-1]"
   ]
  },
  {
   "cell_type": "code",
   "execution_count": 7,
   "metadata": {},
   "outputs": [
    {
     "name": "stderr",
     "output_type": "stream",
     "text": [
      "pybullet build time: Jan 29 2025 23:20:52\n"
     ]
    }
   ],
   "source": [
    "env, o_s, a_s = env_constructor(\"HalfCheetahBLT-V-v0\", 1, None)"
   ]
  },
  {
   "cell_type": "code",
   "execution_count": 8,
   "metadata": {},
   "outputs": [
    {
     "name": "stdout",
     "output_type": "stream",
     "text": [
      "argv[0]=\n",
      "argv[0]=\n"
     ]
    },
    {
     "data": {
      "text/plain": [
       "tensor([[[0., 0., 0., 0., 0., 0., 0., 0., 0.]]], device='cuda:0')"
      ]
     },
     "execution_count": 8,
     "metadata": {},
     "output_type": "execute_result"
    }
   ],
   "source": [
    "env.reset(seed=2)\n"
   ]
  },
  {
   "cell_type": "code",
   "execution_count": 9,
   "metadata": {},
   "outputs": [],
   "source": [
    "env = gym.vector.SyncVectorEnv([make_env(\"HalfCheetahBLT-V-v0\", 1)])"
   ]
  },
  {
   "cell_type": "code",
   "execution_count": 10,
   "metadata": {},
   "outputs": [
    {
     "name": "stdout",
     "output_type": "stream",
     "text": [
      "argv[0]=\n",
      "argv[0]=\n"
     ]
    }
   ],
   "source": [
    "d = env.reset()\n",
    "t = 0\n",
    "done = False"
   ]
  },
  {
   "cell_type": "code",
   "execution_count": 13,
   "metadata": {},
   "outputs": [],
   "source": [
    "while done == False:\n",
    "    t += 1\n",
    "    state, r, trunc, done, _ = env.step(env.action_space.sample())\n",
    "    print(state.shape)"
   ]
  },
  {
   "cell_type": "code",
   "execution_count": 16,
   "metadata": {},
   "outputs": [
    {
     "data": {
      "text/plain": [
       "(1, 9)"
      ]
     },
     "execution_count": 16,
     "metadata": {},
     "output_type": "execute_result"
    }
   ],
   "source": [
    "state.shape"
   ]
  },
  {
   "cell_type": "code",
   "execution_count": 40,
   "metadata": {},
   "outputs": [],
   "source": [
    "envs = make_env(\"HalfCheetahBLT-V-v0\", 1)"
   ]
  },
  {
   "cell_type": "code",
   "execution_count": 41,
   "metadata": {},
   "outputs": [],
   "source": [
    "envs = gym.vector.SyncVectorEnv([make_env(\"HalfCheetahBLT-V-v0\", 1)])"
   ]
  },
  {
   "cell_type": "code",
   "execution_count": 47,
   "metadata": {},
   "outputs": [
    {
     "data": {
      "text/plain": [
       "array([[-0.34053656,  0.5768574 , -0.39361033, -0.09300422, -0.7319166 ,\n",
       "        -0.19377403]], dtype=float32)"
      ]
     },
     "execution_count": 47,
     "metadata": {},
     "output_type": "execute_result"
    }
   ],
   "source": [
    "envs.action_space.sample()"
   ]
  },
  {
   "cell_type": "code",
   "execution_count": null,
   "metadata": {},
   "outputs": [],
   "source": []
  },
  {
   "cell_type": "code",
   "execution_count": null,
   "metadata": {},
   "outputs": [],
   "source": []
  },
  {
   "cell_type": "code",
   "execution_count": null,
   "metadata": {},
   "outputs": [],
   "source": []
  },
  {
   "cell_type": "code",
   "execution_count": 17,
   "metadata": {},
   "outputs": [],
   "source": [
    "import gymnasium"
   ]
  },
  {
   "cell_type": "code",
   "execution_count": 18,
   "metadata": {},
   "outputs": [
    {
     "data": {
      "text/plain": [
       "'0.29.1'"
      ]
     },
     "execution_count": 18,
     "metadata": {},
     "output_type": "execute_result"
    }
   ],
   "source": [
    "gymnasium.__version__"
   ]
  },
  {
   "cell_type": "markdown",
   "metadata": {},
   "source": []
  },
  {
   "cell_type": "code",
   "execution_count": 26,
   "metadata": {},
   "outputs": [],
   "source": [
    "env = gym.make(\"HalfCheetahBulletEnv-v0\")"
   ]
  },
  {
   "cell_type": "code",
   "execution_count": 21,
   "metadata": {},
   "outputs": [
    {
     "name": "stdout",
     "output_type": "stream",
     "text": [
      "argv[0]=\n",
      "argv[0]=\n"
     ]
    }
   ],
   "source": [
    "o = env.reset()"
   ]
  },
  {
   "cell_type": "code",
   "execution_count": 23,
   "metadata": {},
   "outputs": [],
   "source": [
    "o = env.step(env.action_space.sample())"
   ]
  },
  {
   "cell_type": "code",
   "execution_count": null,
   "metadata": {},
   "outputs": [],
   "source": []
  },
  {
   "cell_type": "code",
   "execution_count": null,
   "metadata": {},
   "outputs": [
    {
     "data": {
      "text/plain": [
       "<TimeLimit<OrderEnforcing<PassiveEnvChecker<HalfCheetahBulletEnv<HalfCheetahBulletEnv-v0>>>>>"
      ]
     },
     "execution_count": 27,
     "metadata": {},
     "output_type": "execute_result"
    }
   ],
   "source": [
    "env."
   ]
  },
  {
   "cell_type": "code",
   "execution_count": 18,
   "metadata": {},
   "outputs": [],
   "source": [
    "def mean_padding(tensor, K):\n",
    "    if len(tensor.shape) == 3:\n",
    "        num_envs, context, state_dim = tensor.shape\n",
    "        if context >= K:\n",
    "            return tensor #[:, :, :K, :] \n",
    "        mean_state = tensor[:,0,:].unsqueeze(1)\n",
    "        pad_tensor = mean_state.expand(num_envs, K - context, state_dim)\n",
    "        padded_tensor = torch.cat([pad_tensor, tensor], dim=1)\n",
    "        print(f\"Padded to context {K}\")\n",
    "        return padded_tensor\n",
    "    \n",
    "    else:    \n",
    "        num_envs, batch_size, context, state_dim = tensor.shape\n",
    "        if context >= K:\n",
    "            return tensor #[:, :, :K, :] \n",
    "        mean_state = tensor[:,:,0,:].unsqueeze(2)\n",
    "        pad_tensor = mean_state.expand(num_envs, batch_size, K - context, state_dim)\n",
    "        padded_tensor = torch.cat([pad_tensor, tensor], dim=2)\n",
    "        print(f\"Padded to context {K}\")\n",
    "        return padded_tensor"
   ]
  },
  {
   "cell_type": "code",
   "execution_count": 32,
   "metadata": {},
   "outputs": [],
   "source": [
    "s = torch.rand(10,  9, 33)"
   ]
  },
  {
   "cell_type": "code",
   "execution_count": 34,
   "metadata": {},
   "outputs": [
    {
     "name": "stdout",
     "output_type": "stream",
     "text": [
      "Padded to context 10\n"
     ]
    },
    {
     "data": {
      "text/plain": [
       "tensor([[[0.9324, 0.4218, 0.2059,  ..., 0.9033, 0.2874, 0.5513],\n",
       "         [0.9324, 0.4218, 0.2059,  ..., 0.9033, 0.2874, 0.5513],\n",
       "         [0.7634, 0.3416, 0.6589,  ..., 0.0961, 0.5652, 0.8297],\n",
       "         ...,\n",
       "         [0.5756, 0.1285, 0.7396,  ..., 0.1814, 0.8996, 0.6912],\n",
       "         [0.7203, 0.5278, 0.6679,  ..., 0.2937, 0.5709, 0.2885],\n",
       "         [0.1177, 0.5347, 0.3860,  ..., 0.5387, 0.9451, 0.3670]],\n",
       "\n",
       "        [[0.4956, 0.9384, 0.8911,  ..., 0.3051, 0.2602, 0.6519],\n",
       "         [0.4956, 0.9384, 0.8911,  ..., 0.3051, 0.2602, 0.6519],\n",
       "         [0.3810, 0.4067, 0.3000,  ..., 0.2745, 0.2070, 0.6879],\n",
       "         ...,\n",
       "         [0.7535, 0.8238, 0.0327,  ..., 0.0889, 0.5228, 0.9270],\n",
       "         [0.2375, 0.9383, 0.7587,  ..., 0.7395, 0.1385, 0.6115],\n",
       "         [0.5802, 0.1373, 0.1429,  ..., 0.1372, 0.1281, 0.5293]],\n",
       "\n",
       "        [[0.9900, 0.2496, 0.3874,  ..., 0.6468, 0.9998, 0.7530],\n",
       "         [0.9900, 0.2496, 0.3874,  ..., 0.6468, 0.9998, 0.7530],\n",
       "         [0.3298, 0.1811, 0.4103,  ..., 0.7697, 0.4648, 0.2721],\n",
       "         ...,\n",
       "         [0.6626, 0.8902, 0.1990,  ..., 0.9861, 0.3038, 0.7725],\n",
       "         [0.7274, 0.0236, 0.1976,  ..., 0.5986, 0.5914, 0.2025],\n",
       "         [0.0662, 0.9250, 0.6916,  ..., 0.4419, 0.6262, 0.9921]],\n",
       "\n",
       "        ...,\n",
       "\n",
       "        [[0.4481, 0.9977, 0.3455,  ..., 0.7342, 0.1051, 0.9844],\n",
       "         [0.4481, 0.9977, 0.3455,  ..., 0.7342, 0.1051, 0.9844],\n",
       "         [0.6570, 0.6639, 0.2363,  ..., 0.5381, 0.4896, 0.8552],\n",
       "         ...,\n",
       "         [0.8731, 0.2772, 0.5738,  ..., 0.6165, 0.7006, 0.1260],\n",
       "         [0.5213, 0.7442, 0.7907,  ..., 0.2464, 0.8041, 0.0463],\n",
       "         [0.0029, 0.7798, 0.8654,  ..., 0.6427, 0.0940, 0.4817]],\n",
       "\n",
       "        [[0.8965, 0.8114, 0.5009,  ..., 0.7671, 0.4393, 0.6241],\n",
       "         [0.8965, 0.8114, 0.5009,  ..., 0.7671, 0.4393, 0.6241],\n",
       "         [0.1336, 0.0137, 0.5348,  ..., 0.8179, 0.0486, 0.9671],\n",
       "         ...,\n",
       "         [0.9768, 0.3803, 0.3823,  ..., 0.1564, 0.3222, 0.8962],\n",
       "         [0.0882, 0.8710, 0.0041,  ..., 0.5497, 0.4671, 0.6877],\n",
       "         [0.3438, 0.6263, 0.1035,  ..., 0.2916, 0.5894, 0.2598]],\n",
       "\n",
       "        [[0.7442, 0.3846, 0.3158,  ..., 0.9667, 0.6726, 0.1257],\n",
       "         [0.7442, 0.3846, 0.3158,  ..., 0.9667, 0.6726, 0.1257],\n",
       "         [0.2709, 0.8841, 0.9227,  ..., 0.8273, 0.4974, 0.6014],\n",
       "         ...,\n",
       "         [0.5013, 0.2164, 0.3695,  ..., 0.6410, 0.1335, 0.0908],\n",
       "         [0.0607, 0.5425, 0.0507,  ..., 0.5094, 0.5842, 0.8205],\n",
       "         [0.4544, 0.6818, 0.7414,  ..., 0.8126, 0.5635, 0.6577]]])"
      ]
     },
     "execution_count": 34,
     "metadata": {},
     "output_type": "execute_result"
    }
   ],
   "source": [
    " mean_padding(s, 10)"
   ]
  },
  {
   "cell_type": "code",
   "execution_count": 31,
   "metadata": {},
   "outputs": [
    {
     "name": "stdout",
     "output_type": "stream",
     "text": [
      "Padded to context 11\n"
     ]
    },
    {
     "data": {
      "text/plain": [
       "torch.Size([10, 11, 33])"
      ]
     },
     "execution_count": 31,
     "metadata": {},
     "output_type": "execute_result"
    }
   ],
   "source": [
    " mean_padding(s, 11).shape"
   ]
  },
  {
   "cell_type": "code",
   "execution_count": null,
   "metadata": {},
   "outputs": [],
   "source": []
  },
  {
   "cell_type": "code",
   "execution_count": null,
   "metadata": {},
   "outputs": [],
   "source": []
  },
  {
   "cell_type": "code",
   "execution_count": null,
   "metadata": {},
   "outputs": [],
   "source": []
  },
  {
   "cell_type": "code",
   "execution_count": null,
   "metadata": {},
   "outputs": [],
   "source": []
  }
 ],
 "metadata": {
  "kernelspec": {
   "display_name": "base",
   "language": "python",
   "name": "python3"
  },
  "language_info": {
   "codemirror_mode": {
    "name": "ipython",
    "version": 3
   },
   "file_extension": ".py",
   "mimetype": "text/x-python",
   "name": "python",
   "nbconvert_exporter": "python",
   "pygments_lexer": "ipython3",
   "version": "3.9.20"
  }
 },
 "nbformat": 4,
 "nbformat_minor": 2
}
